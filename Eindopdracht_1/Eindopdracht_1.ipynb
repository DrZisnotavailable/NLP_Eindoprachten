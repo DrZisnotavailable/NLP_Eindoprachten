{
 "cells": [
  {
   "cell_type": "markdown",
   "id": "9a83896a-da45-402f-b791-afe56b06e5fc",
   "metadata": {},
   "source": [
    "# Eindopdracht 1: Vector Space Models & Principle Component Analysis\n",
    "\n",
    "Naam: Sietse Neve\n",
    "Studentnummer: 1810364"
   ]
  },
  {
   "cell_type": "markdown",
   "id": "783a46cf-0fe4-4942-9854-175a7628036b",
   "metadata": {},
   "source": [
    "## Deel I: Vector Space Models"
   ]
  },
  {
   "cell_type": "markdown",
   "id": "4ea99d23-4e1e-4560-9cb3-0a68176d8fee",
   "metadata": {},
   "source": [
    "### 1."
   ]
  },
  {
   "cell_type": "code",
   "execution_count": 2,
   "id": "c1a3a2bd-1281-4fe2-b392-0a116f2912c2",
   "metadata": {},
   "outputs": [],
   "source": [
    "import numpy as np\n",
    "import pandas as pd\n",
    "import pickle\n",
    "import matplotlib.pyplot as plt"
   ]
  },
  {
   "cell_type": "code",
   "execution_count": 19,
   "id": "c75c1e28-8db3-4e26-9eec-d3368e2b06aa",
   "metadata": {},
   "outputs": [
    {
     "data": {
      "text/html": [
       "<div>\n",
       "<style scoped>\n",
       "    .dataframe tbody tr th:only-of-type {\n",
       "        vertical-align: middle;\n",
       "    }\n",
       "\n",
       "    .dataframe tbody tr th {\n",
       "        vertical-align: top;\n",
       "    }\n",
       "\n",
       "    .dataframe thead th {\n",
       "        text-align: right;\n",
       "    }\n",
       "</style>\n",
       "<table border=\"1\" class=\"dataframe\">\n",
       "  <thead>\n",
       "    <tr style=\"text-align: right;\">\n",
       "      <th></th>\n",
       "      <th>city1</th>\n",
       "      <th>country1</th>\n",
       "      <th>city2</th>\n",
       "      <th>country2</th>\n",
       "    </tr>\n",
       "  </thead>\n",
       "  <tbody>\n",
       "    <tr>\n",
       "      <th>0</th>\n",
       "      <td>Athens</td>\n",
       "      <td>Greece</td>\n",
       "      <td>Baghdad</td>\n",
       "      <td>Iraq</td>\n",
       "    </tr>\n",
       "    <tr>\n",
       "      <th>1</th>\n",
       "      <td>Athens</td>\n",
       "      <td>Greece</td>\n",
       "      <td>Bangkok</td>\n",
       "      <td>Thailand</td>\n",
       "    </tr>\n",
       "    <tr>\n",
       "      <th>2</th>\n",
       "      <td>Athens</td>\n",
       "      <td>Greece</td>\n",
       "      <td>Beijing</td>\n",
       "      <td>China</td>\n",
       "    </tr>\n",
       "    <tr>\n",
       "      <th>3</th>\n",
       "      <td>Athens</td>\n",
       "      <td>Greece</td>\n",
       "      <td>Berlin</td>\n",
       "      <td>Germany</td>\n",
       "    </tr>\n",
       "    <tr>\n",
       "      <th>4</th>\n",
       "      <td>Athens</td>\n",
       "      <td>Greece</td>\n",
       "      <td>Bern</td>\n",
       "      <td>Switzerland</td>\n",
       "    </tr>\n",
       "  </tbody>\n",
       "</table>\n",
       "</div>"
      ],
      "text/plain": [
       "    city1 country1    city2     country2\n",
       "0  Athens   Greece  Baghdad         Iraq\n",
       "1  Athens   Greece  Bangkok     Thailand\n",
       "2  Athens   Greece  Beijing        China\n",
       "3  Athens   Greece   Berlin      Germany\n",
       "4  Athens   Greece     Bern  Switzerland"
      ]
     },
     "execution_count": 19,
     "metadata": {},
     "output_type": "execute_result"
    }
   ],
   "source": [
    "df = pd.read_csv(\n",
    "    'capitals.txt',\n",
    "    sep=r'\\s+',          \n",
    "    header=None,\n",
    "    names=['city1', 'country1', 'city2', 'country2'],\n",
    "    engine='python',\n",
    ")\n",
    "df.head()\n"
   ]
  },
  {
   "cell_type": "code",
   "execution_count": 20,
   "id": "7d92427a-e674-4eeb-8426-1eed8c9806ef",
   "metadata": {},
   "outputs": [
    {
     "name": "stdout",
     "output_type": "stream",
     "text": [
      "Eerste paar rijen uit capitals.txt:\n",
      "    city1 country1    city2     country2\n",
      "0  Athens   Greece  Baghdad         Iraq\n",
      "1  Athens   Greece  Bangkok     Thailand\n",
      "2  Athens   Greece  Beijing        China\n",
      "3  Athens   Greece   Berlin      Germany\n",
      "4  Athens   Greece     Bern  Switzerland \n",
      "\n",
      "Aantal embeddings: 243\n",
      "Voorbeeldwoord: country\n",
      "Dimensie van embedding: 300\n",
      "\n",
      " Embeddings hebben de verwachte vorm!\n"
     ]
    }
   ],
   "source": [
    "with open('word_embeddings_subset.p', 'rb') as f:\n",
    "    embeddings = pickle.load(f)\n",
    "\n",
    "print(\"Eerste paar rijen uit capitals.txt:\")\n",
    "print(df.head(), \"\\n\")\n",
    "\n",
    "num_embeddings = len(embeddings)\n",
    "sample_word = list(embeddings.keys())[0]\n",
    "embedding_dim = len(embeddings[sample_word])\n",
    "\n",
    "print(f\"Aantal embeddings: {num_embeddings}\")\n",
    "print(f\"Voorbeeldwoord: {sample_word}\")\n",
    "print(f\"Dimensie van embedding: {embedding_dim}\")\n",
    "\n",
    "assert num_embeddings == 243, \"Aantal embeddings klopt niet (verwacht: 243)\"\n",
    "assert embedding_dim == 300, \"Dimensie van embedding klopt niet (verwacht: 300)\"\n",
    "print(\"\\n Embeddings hebben de verwachte vorm!\")\n"
   ]
  },
  {
   "cell_type": "code",
   "execution_count": 21,
   "id": "4c970605-3789-4625-a13c-11683ac37cf7",
   "metadata": {},
   "outputs": [],
   "source": [
    "\n",
    "def cosine_similarity(a: np.ndarray, b: np.ndarray) -> float:\n",
    "    \"\"\"\n",
    "    Bereken de cosine similarity tussen twee word vectors.\n",
    "    \n",
    "    Parameters:\n",
    "    a (np.ndarray): vector 1\n",
    "    b (np.ndarray): vector 2\n",
    "    \n",
    "    Returns:\n",
    "    float: cosine similarity waarde tussen -1 en 1\n",
    "    \"\"\"\n",
    "    dot_product = np.dot(a, b)\n",
    "    norm_a = np.linalg.norm(a)\n",
    "    norm_b = np.linalg.norm(b)\n",
    "    \n",
    "    if norm_a == 0 or norm_b == 0:\n",
    "        raise ValueError(\"Een van de vectors heeft norm 0.\")\n",
    "    \n",
    "    return dot_product / (norm_a * norm_b)\n"
   ]
  },
  {
   "cell_type": "code",
   "execution_count": 22,
   "id": "814cc77b-3d39-4b20-a41d-2c4468d52fb5",
   "metadata": {},
   "outputs": [
    {
     "name": "stdout",
     "output_type": "stream",
     "text": [
      "vec1 vs vec2: 1.0\n",
      "vec1 vs vec3: -1.0\n"
     ]
    }
   ],
   "source": [
    "vec1 = np.array([1, 2, 3])\n",
    "vec2 = np.array([1, 2, 3])\n",
    "vec3 = np.array([-1, -2, -3])\n",
    "\n",
    "print(\"vec1 vs vec2:\", cosine_similarity(vec1, vec2))  # ~1.0 (identiek)\n",
    "print(\"vec1 vs vec3:\", cosine_similarity(vec1, vec3))  # ~-1.0 (tegengesteld)\n"
   ]
  },
  {
   "cell_type": "code",
   "execution_count": 23,
   "id": "fbd666f1-4604-4cac-8474-0a415f374691",
   "metadata": {},
   "outputs": [],
   "source": [
    "def euclidean_distance(a: np.ndarray, b: np.ndarray) -> float:\n",
    "    \"\"\"\n",
    "    Bereken de Euclidean distance tussen twee word vectors.\n",
    "    \n",
    "    Parameters:\n",
    "    a (np.ndarray): vector 1\n",
    "    b (np.ndarray): vector 2\n",
    "    \n",
    "    Returns:\n",
    "    float: Euclidean distance (>= 0)\n",
    "    \"\"\"\n",
    "    if a.shape != b.shape:\n",
    "        raise ValueError(\"De vectoren hebben niet dezelfde dimensie.\")\n",
    "    \n",
    "    return np.linalg.norm(a - b)\n"
   ]
  },
  {
   "cell_type": "code",
   "execution_count": 24,
   "id": "f3d05fb3-4854-4c23-8991-914c89c0a0f1",
   "metadata": {},
   "outputs": [
    {
     "name": "stdout",
     "output_type": "stream",
     "text": [
      "vec1 vs vec2: 0.0\n",
      "vec1 vs vec3: 5.196152422706632\n"
     ]
    }
   ],
   "source": [
    "vec1 = np.array([1, 2, 3])\n",
    "vec2 = np.array([1, 2, 3])\n",
    "vec3 = np.array([4, 5, 6])\n",
    "\n",
    "print(\"vec1 vs vec2:\", euclidean_distance(vec1, vec2))  # 0.0 (identiek)\n",
    "print(\"vec1 vs vec3:\", euclidean_distance(vec1, vec3))  # > 0 (verschillend)\n"
   ]
  },
  {
   "cell_type": "code",
   "execution_count": 25,
   "id": "d128fbe2-47ee-486b-9207-1275446aed3a",
   "metadata": {},
   "outputs": [
    {
     "name": "stdout",
     "output_type": "stream",
     "text": [
      "Cosine similarity (king, queen): 0.6510956\n",
      "Euclidean distance (king, queen): 2.4796925\n"
     ]
    }
   ],
   "source": [
    "vec_king = embeddings['king']\n",
    "vec_queen = embeddings['queen']\n",
    "\n",
    "cos_sim = cosine_similarity(vec_king, vec_queen)\n",
    "\n",
    "euc_dist = euclidean_distance(vec_king, vec_queen)\n",
    "\n",
    "print(f\"Cosine similarity (king, queen): {cos_sim:.7f}\")\n",
    "print(f\"Euclidean distance (king, queen): {euc_dist:.7f}\")\n"
   ]
  },
  {
   "cell_type": "code",
   "execution_count": 26,
   "id": "e60a6737-2a22-4d19-bfbc-9399228d7f59",
   "metadata": {},
   "outputs": [],
   "source": [
    "def find_country_for_city(city1: str, country1: str, city2: str, embeddings: dict):\n",
    "    \"\"\"\n",
    "    Vind het meest waarschijnlijke land bij city2 op basis van een analoge relatie.\n",
    "\n",
    "    city1: hoofdstad van country1\n",
    "    country1: land van city1\n",
    "    city2: hoofdstad van een ander land\n",
    "    embeddings: dictionary {woord: vector}\n",
    "\n",
    "    Returns:\n",
    "    tuple: (gevonden_land, similarity_score)\n",
    "    \"\"\"\n",
    "    for word in [city1, country1, city2]:\n",
    "        if word not in embeddings:\n",
    "            raise ValueError(f\"'{word}' niet gevonden in embeddings.\")\n",
    "\n",
    "    target_vector = embeddings[city2] - embeddings[city1] + embeddings[country1]\n",
    "\n",
    "    best_word = None\n",
    "    best_similarity = -float('inf')\n",
    "\n",
    "    for word, vector in embeddings.items():\n",
    "        if word in [city1, country1, city2]:\n",
    "            continue  # inputwoorden overslaan\n",
    "        sim = cosine_similarity(target_vector, vector)\n",
    "        if sim > best_similarity:\n",
    "            best_similarity = sim\n",
    "            best_word = word\n",
    "\n",
    "    return best_word, best_similarity\n"
   ]
  },
  {
   "cell_type": "code",
   "execution_count": 27,
   "id": "0d8e351f-7be2-4883-bf88-a4cc6a0c3b48",
   "metadata": {},
   "outputs": [
    {
     "name": "stdout",
     "output_type": "stream",
     "text": [
      "Resultaat: ('Egypt', np.float32(0.7626822))\n",
      "\n",
      " Test geslaagd!\n"
     ]
    }
   ],
   "source": [
    "result = find_country_for_city(\"Athens\", \"Greece\", \"Cairo\", embeddings)\n",
    "print(f\"Resultaat: {result}\")\n",
    "\n",
    "expected_country = \"Egypt\"\n",
    "expected_similarity = 0.7626822\n",
    "\n",
    "assert result[0] == expected_country, f\"Fout: verwacht {expected_country}, kreeg {result[0]}\"\n",
    "assert abs(result[1] - expected_similarity) < 1e-7, (\n",
    "    f\"Fout: verwacht {expected_similarity}, kreeg {result[1]}\"\n",
    ")\n",
    "\n",
    "print(\"\\n Test geslaagd!\")\n"
   ]
  },
  {
   "cell_type": "code",
   "execution_count": 31,
   "id": "5eeccfaf-ccc9-407a-b93e-e8b552d620e1",
   "metadata": {},
   "outputs": [
    {
     "name": "stdout",
     "output_type": "stream",
     "text": [
      "Accuracy: 0.9251  (verwacht ~0.92)\n"
     ]
    }
   ],
   "source": [
    "country_candidates = set(df['country1']).union(set(df['country2']))\n",
    "country_candidates = {c for c in country_candidates if c in embeddings}\n",
    "\n",
    "used = 0\n",
    "skipped = 0\n",
    "correct = 0\n",
    "predictions = []\n",
    "\n",
    "for _, row in df.iterrows():\n",
    "    city1, country1, city2, gold_country = row['city1'], row['country1'], row['city2'], row['country2']\n",
    "\n",
    "    pred_country, sim = find_country_for_city_candidates(city1, country1, city2, embeddings, country_candidates)\n",
    "    predictions.append((gold_country, pred_country, sim, (city1, country1, city2)))\n",
    "    correct += int(pred_country == gold_country)\n",
    "    used += 1\n",
    "\n",
    "accuracy = correct / used if used else 0.0\n",
    "print(f\"Accuracy: {accuracy:.4f}  (verwacht ~0.92)\")"
   ]
  },
  {
   "cell_type": "code",
   "execution_count": 18,
   "id": "59c2d61d-112d-47b4-84a1-d5b89273be1c",
   "metadata": {},
   "outputs": [
    {
     "name": "stdout",
     "output_type": "stream",
     "text": [
      "city1       Athens_Greece_Baghdad_Iraq\n",
      "country1                           nan\n",
      "city2                              nan\n",
      "country2                           nan\n",
      "Name: 0, dtype: object\n",
      "Athens_Greece_Baghdad_Iraq in embeddings? False\n",
      "nan in embeddings? False\n",
      "nan in embeddings? False\n",
      "nan in embeddings? False\n"
     ]
    }
   ],
   "source": []
  }
 ],
 "metadata": {
  "kernelspec": {
   "display_name": "Python 3 (ipykernel)",
   "language": "python",
   "name": "python3"
  },
  "language_info": {
   "codemirror_mode": {
    "name": "ipython",
    "version": 3
   },
   "file_extension": ".py",
   "mimetype": "text/x-python",
   "name": "python",
   "nbconvert_exporter": "python",
   "pygments_lexer": "ipython3",
   "version": "3.13.2"
  }
 },
 "nbformat": 4,
 "nbformat_minor": 5
}
