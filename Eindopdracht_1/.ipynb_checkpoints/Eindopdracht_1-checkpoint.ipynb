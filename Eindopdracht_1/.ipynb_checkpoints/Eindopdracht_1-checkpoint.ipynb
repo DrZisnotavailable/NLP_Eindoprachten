{
 "cells": [
  {
   "cell_type": "markdown",
   "id": "9a83896a-da45-402f-b791-afe56b06e5fc",
   "metadata": {},
   "source": [
    "# Eindopdracht 1: Vector Space Models & Principle Component Analysis\n",
    "\n",
    "Naam: Sietse Neve\n",
    "Studentnummer: 1810364"
   ]
  },
  {
   "cell_type": "markdown",
   "id": "783a46cf-0fe4-4942-9854-175a7628036b",
   "metadata": {},
   "source": [
    "## Deel I: Vector Space Models"
   ]
  },
  {
   "cell_type": "markdown",
   "id": "4ea99d23-4e1e-4560-9cb3-0a68176d8fee",
   "metadata": {},
   "source": [
    "### 1."
   ]
  },
  {
   "cell_type": "code",
   "execution_count": 1,
   "id": "c1a3a2bd-1281-4fe2-b392-0a116f2912c2",
   "metadata": {},
   "outputs": [],
   "source": [
    "import numpy as np\n",
    "import pandas as pd\n",
    "import pickle\n",
    "import matplotlib.pyplot as plt"
   ]
  },
  {
   "cell_type": "markdown",
   "id": "f2026300-245d-424b-9a71-2a0626153e3e",
   "metadata": {},
   "source": [
    "### 2."
   ]
  },
  {
   "cell_type": "code",
   "execution_count": 2,
   "id": "c75c1e28-8db3-4e26-9eec-d3368e2b06aa",
   "metadata": {},
   "outputs": [
    {
     "data": {
      "text/html": [
       "<div>\n",
       "<style scoped>\n",
       "    .dataframe tbody tr th:only-of-type {\n",
       "        vertical-align: middle;\n",
       "    }\n",
       "\n",
       "    .dataframe tbody tr th {\n",
       "        vertical-align: top;\n",
       "    }\n",
       "\n",
       "    .dataframe thead th {\n",
       "        text-align: right;\n",
       "    }\n",
       "</style>\n",
       "<table border=\"1\" class=\"dataframe\">\n",
       "  <thead>\n",
       "    <tr style=\"text-align: right;\">\n",
       "      <th></th>\n",
       "      <th>city1</th>\n",
       "      <th>country1</th>\n",
       "      <th>city2</th>\n",
       "      <th>country2</th>\n",
       "    </tr>\n",
       "  </thead>\n",
       "  <tbody>\n",
       "    <tr>\n",
       "      <th>0</th>\n",
       "      <td>Athens</td>\n",
       "      <td>Greece</td>\n",
       "      <td>Baghdad</td>\n",
       "      <td>Iraq</td>\n",
       "    </tr>\n",
       "    <tr>\n",
       "      <th>1</th>\n",
       "      <td>Athens</td>\n",
       "      <td>Greece</td>\n",
       "      <td>Bangkok</td>\n",
       "      <td>Thailand</td>\n",
       "    </tr>\n",
       "    <tr>\n",
       "      <th>2</th>\n",
       "      <td>Athens</td>\n",
       "      <td>Greece</td>\n",
       "      <td>Beijing</td>\n",
       "      <td>China</td>\n",
       "    </tr>\n",
       "    <tr>\n",
       "      <th>3</th>\n",
       "      <td>Athens</td>\n",
       "      <td>Greece</td>\n",
       "      <td>Berlin</td>\n",
       "      <td>Germany</td>\n",
       "    </tr>\n",
       "    <tr>\n",
       "      <th>4</th>\n",
       "      <td>Athens</td>\n",
       "      <td>Greece</td>\n",
       "      <td>Bern</td>\n",
       "      <td>Switzerland</td>\n",
       "    </tr>\n",
       "  </tbody>\n",
       "</table>\n",
       "</div>"
      ],
      "text/plain": [
       "    city1 country1    city2     country2\n",
       "0  Athens   Greece  Baghdad         Iraq\n",
       "1  Athens   Greece  Bangkok     Thailand\n",
       "2  Athens   Greece  Beijing        China\n",
       "3  Athens   Greece   Berlin      Germany\n",
       "4  Athens   Greece     Bern  Switzerland"
      ]
     },
     "execution_count": 2,
     "metadata": {},
     "output_type": "execute_result"
    }
   ],
   "source": [
    "df = pd.read_csv(\n",
    "    'capitals.txt',\n",
    "    sep=r'\\s+',          \n",
    "    header=None,\n",
    "    names=['city1', 'country1', 'city2', 'country2'],\n",
    "    engine='python',\n",
    ")\n",
    "df.head()\n"
   ]
  },
  {
   "cell_type": "markdown",
   "id": "8e81edff-485b-494c-a293-dba8912574ef",
   "metadata": {},
   "source": [
    "### 3."
   ]
  },
  {
   "cell_type": "code",
   "execution_count": 3,
   "id": "7d92427a-e674-4eeb-8426-1eed8c9806ef",
   "metadata": {},
   "outputs": [
    {
     "name": "stdout",
     "output_type": "stream",
     "text": [
      "Eerste paar rijen uit capitals.txt:\n",
      "    city1 country1    city2     country2\n",
      "0  Athens   Greece  Baghdad         Iraq\n",
      "1  Athens   Greece  Bangkok     Thailand\n",
      "2  Athens   Greece  Beijing        China\n",
      "3  Athens   Greece   Berlin      Germany\n",
      "4  Athens   Greece     Bern  Switzerland \n",
      "\n",
      "Aantal embeddings: 243\n",
      "Voorbeeldwoord: country\n",
      "Dimensie van embedding: 300\n",
      "\n",
      " Embeddings hebben de verwachte vorm!\n"
     ]
    }
   ],
   "source": [
    "with open('word_embeddings_subset.p', 'rb') as f:\n",
    "    embeddings = pickle.load(f)\n",
    "\n",
    "print(\"Eerste paar rijen uit capitals.txt:\")\n",
    "print(df.head(), \"\\n\")\n",
    "\n",
    "num_embeddings = len(embeddings)\n",
    "sample_word = list(embeddings.keys())[0]\n",
    "embedding_dim = len(embeddings[sample_word])\n",
    "\n",
    "print(f\"Aantal embeddings: {num_embeddings}\")\n",
    "print(f\"Voorbeeldwoord: {sample_word}\")\n",
    "print(f\"Dimensie van embedding: {embedding_dim}\")\n",
    "\n",
    "assert num_embeddings == 243, \"Aantal embeddings klopt niet (verwacht: 243)\"\n",
    "assert embedding_dim == 300, \"Dimensie van embedding klopt niet (verwacht: 300)\"\n",
    "print(\"\\n Embeddings hebben de verwachte vorm!\")\n"
   ]
  },
  {
   "cell_type": "markdown",
   "id": "77f51921-ab2a-41e2-9c13-9395656c7b6f",
   "metadata": {},
   "source": [
    "### 4."
   ]
  },
  {
   "cell_type": "code",
   "execution_count": 4,
   "id": "4c970605-3789-4625-a13c-11683ac37cf7",
   "metadata": {},
   "outputs": [],
   "source": [
    "\n",
    "def cosine_similarity(a: np.ndarray, b: np.ndarray) -> float:\n",
    "    \"\"\"\n",
    "    Bereken de cosine similarity tussen twee word vectors.\n",
    "    \n",
    "    Parameters:\n",
    "    a (np.ndarray): vector 1\n",
    "    b (np.ndarray): vector 2\n",
    "    \n",
    "    Returns:\n",
    "    float: cosine similarity waarde tussen -1 en 1\n",
    "    \"\"\"\n",
    "    dot_product = np.dot(a, b)\n",
    "    norm_a = np.linalg.norm(a)\n",
    "    norm_b = np.linalg.norm(b)\n",
    "    \n",
    "    if norm_a == 0 or norm_b == 0:\n",
    "        raise ValueError(\"Een van de vectors heeft norm 0.\")\n",
    "    \n",
    "    return dot_product / (norm_a * norm_b)\n"
   ]
  },
  {
   "cell_type": "code",
   "execution_count": 5,
   "id": "814cc77b-3d39-4b20-a41d-2c4468d52fb5",
   "metadata": {},
   "outputs": [
    {
     "name": "stdout",
     "output_type": "stream",
     "text": [
      "vec1 vs vec2: 1.0\n",
      "vec1 vs vec3: -1.0\n"
     ]
    }
   ],
   "source": [
    "vec1 = np.array([1, 2, 3])\n",
    "vec2 = np.array([1, 2, 3])\n",
    "vec3 = np.array([-1, -2, -3])\n",
    "\n",
    "print(\"vec1 vs vec2:\", cosine_similarity(vec1, vec2))  # ~1.0 (identiek)\n",
    "print(\"vec1 vs vec3:\", cosine_similarity(vec1, vec3))  # ~-1.0 (tegengesteld)\n"
   ]
  },
  {
   "cell_type": "markdown",
   "id": "842b4b54-ce17-4308-abd2-2df5de125726",
   "metadata": {},
   "source": [
    "### 5."
   ]
  },
  {
   "cell_type": "code",
   "execution_count": 6,
   "id": "fbd666f1-4604-4cac-8474-0a415f374691",
   "metadata": {},
   "outputs": [],
   "source": [
    "def euclidean_distance(a: np.ndarray, b: np.ndarray) -> float:\n",
    "    \"\"\"\n",
    "    Bereken de Euclidean distance tussen twee word vectors.\n",
    "    \n",
    "    Parameters:\n",
    "    a (np.ndarray): vector 1\n",
    "    b (np.ndarray): vector 2\n",
    "    \n",
    "    Returns:\n",
    "    float: Euclidean distance (>= 0)\n",
    "    \"\"\"\n",
    "    if a.shape != b.shape:\n",
    "        raise ValueError(\"De vectoren hebben niet dezelfde dimensie.\")\n",
    "    \n",
    "    return np.linalg.norm(a - b)\n"
   ]
  },
  {
   "cell_type": "code",
   "execution_count": 7,
   "id": "f3d05fb3-4854-4c23-8991-914c89c0a0f1",
   "metadata": {},
   "outputs": [
    {
     "name": "stdout",
     "output_type": "stream",
     "text": [
      "vec1 vs vec2: 0.0\n",
      "vec1 vs vec3: 5.196152422706632\n"
     ]
    }
   ],
   "source": [
    "vec1 = np.array([1, 2, 3])\n",
    "vec2 = np.array([1, 2, 3])\n",
    "vec3 = np.array([4, 5, 6])\n",
    "\n",
    "print(\"vec1 vs vec2:\", euclidean_distance(vec1, vec2))  # 0.0 (identiek)\n",
    "print(\"vec1 vs vec3:\", euclidean_distance(vec1, vec3))  # > 0 (verschillend)\n"
   ]
  },
  {
   "cell_type": "markdown",
   "id": "746a4076-8f30-4d01-82f5-4fc89e9fd048",
   "metadata": {},
   "source": [
    "### 6."
   ]
  },
  {
   "cell_type": "code",
   "execution_count": 8,
   "id": "d128fbe2-47ee-486b-9207-1275446aed3a",
   "metadata": {},
   "outputs": [
    {
     "name": "stdout",
     "output_type": "stream",
     "text": [
      "Cosine similarity (king, queen): 0.6510956\n",
      "Euclidean distance (king, queen): 2.4796925\n"
     ]
    }
   ],
   "source": [
    "vec_king = embeddings['king']\n",
    "vec_queen = embeddings['queen']\n",
    "\n",
    "cos_sim = cosine_similarity(vec_king, vec_queen)\n",
    "\n",
    "euc_dist = euclidean_distance(vec_king, vec_queen)\n",
    "\n",
    "print(f\"Cosine similarity (king, queen): {cos_sim:.7f}\")\n",
    "print(f\"Euclidean distance (king, queen): {euc_dist:.7f}\")\n"
   ]
  },
  {
   "cell_type": "markdown",
   "id": "096b6ee8-322a-4786-8754-f94f5631a80b",
   "metadata": {},
   "source": [
    "### 7."
   ]
  },
  {
   "cell_type": "code",
   "execution_count": 9,
   "id": "e60a6737-2a22-4d19-bfbc-9399228d7f59",
   "metadata": {},
   "outputs": [],
   "source": [
    "def find_country_for_city(city1: str, country1: str, city2: str, embeddings: dict):\n",
    "    \"\"\"\n",
    "    Vind het meest waarschijnlijke land bij city2 op basis van een analoge relatie.\n",
    "\n",
    "    city1: hoofdstad van country1\n",
    "    country1: land van city1\n",
    "    city2: hoofdstad van een ander land\n",
    "    embeddings: dictionary {woord: vector}\n",
    "\n",
    "    Returns:\n",
    "    tuple: (gevonden_land, similarity_score)\n",
    "    \"\"\"\n",
    "    for word in [city1, country1, city2]:\n",
    "        if word not in embeddings:\n",
    "            raise ValueError(f\"'{word}' niet gevonden in embeddings.\")\n",
    "\n",
    "    target_vector = embeddings[city2] - embeddings[city1] + embeddings[country1]\n",
    "\n",
    "    best_word = None\n",
    "    best_similarity = -float('inf')\n",
    "\n",
    "    for word, vector in embeddings.items():\n",
    "        if word in [city1, country1, city2]:\n",
    "            continue  # inputwoorden overslaan\n",
    "        sim = cosine_similarity(target_vector, vector)\n",
    "        if sim > best_similarity:\n",
    "            best_similarity = sim\n",
    "            best_word = word\n",
    "\n",
    "    return best_word, best_similarity\n"
   ]
  },
  {
   "cell_type": "markdown",
   "id": "10520b14-9887-4550-ab6f-620f1b370cb9",
   "metadata": {},
   "source": [
    "### 8."
   ]
  },
  {
   "cell_type": "code",
   "execution_count": 10,
   "id": "0d8e351f-7be2-4883-bf88-a4cc6a0c3b48",
   "metadata": {},
   "outputs": [
    {
     "name": "stdout",
     "output_type": "stream",
     "text": [
      "Resultaat: ('Egypt', np.float32(0.7626822))\n",
      "\n",
      " Test geslaagd!\n"
     ]
    }
   ],
   "source": [
    "result = find_country_for_city(\"Athens\", \"Greece\", \"Cairo\", embeddings)\n",
    "print(f\"Resultaat: {result}\")\n",
    "\n",
    "expected_country = \"Egypt\"\n",
    "expected_similarity = 0.7626822\n",
    "\n",
    "assert result[0] == expected_country, f\"Fout: verwacht {expected_country}, kreeg {result[0]}\"\n",
    "assert abs(result[1] - expected_similarity) < 1e-7, (\n",
    "    f\"Fout: verwacht {expected_similarity}, kreeg {result[1]}\"\n",
    ")\n",
    "\n",
    "print(\"\\n Test geslaagd!\")\n"
   ]
  },
  {
   "cell_type": "markdown",
   "id": "bf1d0401-6d84-494c-a2d3-4e81a8980db2",
   "metadata": {},
   "source": [
    "### 9."
   ]
  },
  {
   "cell_type": "code",
   "execution_count": 11,
   "id": "6bc5ef7d-829a-4101-b468-025f9c31fde6",
   "metadata": {},
   "outputs": [],
   "source": [
    "def find_country_for_city_candidates(city1: str, country1: str, city2: str, embeddings: dict, candidates: set):\n",
    "    \"\"\"\n",
    "    Bepaal het meest waarschijnlijke land voor city2 op basis van een analoge relatie:\n",
    "    city1 is hoofdstad van country1, city2 is hoofdstad van ? (te bepalen).\n",
    "\n",
    "    Parameters\n",
    "    ----------\n",
    "    city1 : str\n",
    "        Hoofdstad van country1.\n",
    "    country1 : str\n",
    "        Land waarvan city1 de hoofdstad is.\n",
    "    city2 : str\n",
    "        Hoofdstad van een ander land waarvoor het bijbehorende land gezocht wordt.\n",
    "    embeddings : dict\n",
    "        Dictionary met woorden als keys en hun embedding (numpy array) als values.\n",
    "    candidates : set\n",
    "        Set van kandidaatlanden waaruit gekozen wordt.\n",
    "\n",
    "    Returns\n",
    "    -------\n",
    "    tuple\n",
    "        (gevonden_land, similarity_score) waarbij gevonden_land het land is met de hoogste\n",
    "        cosine similarity ten opzichte van de berekende target vector.\n",
    "    \"\"\"\n",
    "    for word in [city1, country1, city2]:\n",
    "        if word not in embeddings:\n",
    "            raise ValueError(f\"'{word}' niet gevonden in embeddings.\")\n",
    "\n",
    "    target_vector = embeddings[city2] - embeddings[city1] + embeddings[country1]\n",
    "\n",
    "    best_word = None\n",
    "    best_similarity = -float('inf')\n",
    "\n",
    "    for word in candidates:\n",
    "        if word in (city1, country1, city2):\n",
    "            continue\n",
    "        sim = cosine_similarity(target_vector, embeddings[word])\n",
    "        if sim > best_similarity:\n",
    "            best_similarity = sim\n",
    "            best_word = word\n",
    "\n",
    "    return best_word, best_similarity"
   ]
  },
  {
   "cell_type": "code",
   "execution_count": 12,
   "id": "5eeccfaf-ccc9-407a-b93e-e8b552d620e1",
   "metadata": {},
   "outputs": [
    {
     "name": "stdout",
     "output_type": "stream",
     "text": [
      "Accuracy: 0.9251  (verwacht ~0.92)\n"
     ]
    }
   ],
   "source": [
    "country_candidates = set(df['country1']).union(set(df['country2']))\n",
    "country_candidates = {c for c in country_candidates if c in embeddings}\n",
    "\n",
    "used = 0\n",
    "skipped = 0\n",
    "correct = 0\n",
    "predictions = []\n",
    "\n",
    "for _, row in df.iterrows():\n",
    "    city1, country1, city2, gold_country = row['city1'], row['country1'], row['city2'], row['country2']\n",
    "\n",
    "    pred_country, sim = find_country_for_city_candidates(city1, country1, city2, embeddings, country_candidates)\n",
    "    predictions.append((gold_country, pred_country, sim, (city1, country1, city2)))\n",
    "    correct += int(pred_country == gold_country)\n",
    "    used += 1\n",
    "\n",
    "accuracy = correct / used if used else 0.0\n",
    "print(f\"Accuracy: {accuracy:.4f}  (verwacht ~0.92)\")"
   ]
  },
  {
   "cell_type": "markdown",
   "id": "31001a57-11d2-4726-aeca-0e52b44c83af",
   "metadata": {},
   "source": [
    "## Deel 2"
   ]
  },
  {
   "cell_type": "code",
   "execution_count": 24,
   "id": "d7f921c5-ac86-4ca0-868c-6545d6669401",
   "metadata": {},
   "outputs": [],
   "source": [
    "def pca_reduce(X: np.ndarray, n_components: int = 2) -> np.ndarray:\n",
    "    \"\"\"\n",
    "    PCA-reductie van word vectors.\n",
    "    \n",
    "    Parameters:\n",
    "    X (np.ndarray): matrix van vorm (m, n) met m = aantal woorden, n = dimensies\n",
    "    n_components (int): aantal gewenste dimensies\n",
    "    \n",
    "    Returns:\n",
    "    np.ndarray: getransformeerde data met vorm (m, n_components)\n",
    "    \"\"\"\n",
    "    # 1. Data centreren (gemiddelde per kolom)\n",
    "    X_mean = np.mean(X, axis=0)\n",
    "    X_centered = X - X_mean\n",
    "    \n",
    "    # 2. Covariantiematrix berekenen\n",
    "    covariance_matrix = np.cov(X_centered, rowvar=False)\n",
    "    \n",
    "    # 3. Eigenwaarden en eigenvectoren berekenen\n",
    "    eigenvalues, eigenvectors = np.linalg.eigh(covariance_matrix)\n",
    "    \n",
    "    # 4. Sorteer eigenvectoren op aflopende eigenwaarde\n",
    "    sorted_indices = np.argsort(eigenvalues)[::-1]\n",
    "    top_indices = sorted_indices[:n_components]\n",
    "    principal_components = eigenvectors[:, top_indices]\n",
    "    \n",
    "    # 5. Projecteer data op de gekozen componenten\n",
    "    X_reduced = np.dot(X_centered, principal_components)\n",
    "    \n",
    "    return X_reduced"
   ]
  },
  {
   "cell_type": "code",
   "execution_count": 25,
   "id": "7f78a0b7-cbdd-4d05-8fa7-287b5411ccf7",
   "metadata": {},
   "outputs": [],
   "source": [
    "def compute_pca(X: np.ndarray, n_components: int = 2) -> np.ndarray:\n",
    "    \"\"\"\n",
    "    Voer PCA uit op word vectors.\n",
    "\n",
    "    Parameters\n",
    "    ----------\n",
    "    X : np.ndarray\n",
    "        Vorm (m, n): m woordvectoren, n dimensies per vector.\n",
    "    n_components : int\n",
    "        Aantal gewenste hoofdcomponenten (kolommen) in de output.\n",
    "\n",
    "    Returns\n",
    "    -------\n",
    "    np.ndarray\n",
    "        X_reduced met vorm (m, n_components).\n",
    "    \"\"\"\n",
    "    X = np.asarray(X, dtype=float)\n",
    "    if n_components <= 0 or n_components > X.shape[1]:\n",
    "        raise ValueError(\"n_components moet tussen 1 en het aantal kolommen van X liggen.\")\n",
    "\n",
    "    # 1) Centreer data\n",
    "    mean = np.mean(X, axis=0, keepdims=True)\n",
    "    X_centered = X - mean\n",
    "\n",
    "    # 2) Covariantiematrix (kolommen = variabelen)\n",
    "    C = np.cov(X_centered, rowvar=False)\n",
    "\n",
    "    # 3) Eigen-decompositie (symmetrische matrix -> eigh)\n",
    "    eigvals, eigvecs = np.linalg.eigh(C)  # kolommen van eigvecs zijn eigenvectoren\n",
    "\n",
    "    # 4) Sorteer op afnemende eigenvalue\n",
    "    idx = np.argsort(eigvals)[::-1]\n",
    "    eigvecs_sorted = eigvecs[:, idx]\n",
    "\n",
    "    # 5) Neem de eerste n eigenvectoren\n",
    "    W = eigvecs_sorted[:, :n_components]  # vorm (n, n_components)\n",
    "\n",
    "    # 6) Projecteer gecentreerde data op deze componenten\n",
    "    X_reduced = X_centered @ W            # vorm (m, n_components)\n",
    "\n",
    "    return X_reduced\n"
   ]
  },
  {
   "cell_type": "code",
   "execution_count": 26,
   "id": "63220efd-ca3c-47e7-b401-36609241211f",
   "metadata": {},
   "outputs": [
    {
     "name": "stdout",
     "output_type": "stream",
     "text": [
      "De originele matrix is (3, 10), en na PCA:\n",
      "[[ 0.43437323 -0.49820384]\n",
      " [ 0.42077249  0.50351448]\n",
      " [-0.85514571 -0.00531064]]\n"
     ]
    }
   ],
   "source": [
    "np.random.seed(1)\n",
    "X = np.random.rand(3, 10)\n",
    "X_reduced = compute_pca(X, n_components=2)\n",
    "print(\"De originele matrix is \" + str(X.shape) + \", en na PCA:\")\n",
    "print(X_reduced)"
   ]
  },
  {
   "cell_type": "code",
   "execution_count": 27,
   "id": "7d51297d-ebac-432b-9a89-d421a6912ad6",
   "metadata": {},
   "outputs": [],
   "source": [
    "def get_embeddings_matrix(embeddings: dict, words: list) -> np.ndarray:\n",
    "    \"\"\"\n",
    "    Haal embeddings op voor een lijst van woorden.\n",
    "\n",
    "    Parameters\n",
    "    ----------\n",
    "    embeddings : dict\n",
    "        Dictionary met woorden als keys en numpy arrays als values.\n",
    "    words : list\n",
    "        Lijst van woorden waarvan de embeddings opgehaald worden.\n",
    "\n",
    "    Returns\n",
    "    -------\n",
    "    np.ndarray\n",
    "        Matrix met vorm (len(words), embedding_dim), elke rij is de embedding van één woord.\n",
    "    \"\"\"\n",
    "    X = []\n",
    "    for w in words:\n",
    "        if w not in embeddings:\n",
    "            raise ValueError(f\"Woord '{w}' niet gevonden in embeddings.\")\n",
    "        X.append(embeddings[w])\n",
    "    return np.vstack(X)\n"
   ]
  },
  {
   "cell_type": "code",
   "execution_count": 28,
   "id": "4ae66d41-99ba-4876-9fef-aa5b21029970",
   "metadata": {},
   "outputs": [
    {
     "data": {
      "image/png": "[encoded data removed]",
      "text/plain": [
       "<Figure size 800x600 with 1 Axes>"
      ]
     },
     "metadata": {},
     "output_type": "display_data"
    }
   ],
   "source": [
    "# Woordenlijst\n",
    "words = ['oil', 'gas', 'happy', 'sad', 'city', 'town', 'village',\n",
    "         'country', 'continent', 'petroleum', 'joyful']\n",
    "\n",
    "X = get_embeddings_matrix(embeddings, words)\n",
    "\n",
    "X_reduced = pca_reduce(X, n_components=2)\n",
    "\n",
    "plt.figure(figsize=(8, 6))\n",
    "plt.scatter(X_reduced[:, 0], X_reduced[:, 1], color='skyblue')\n",
    "\n",
    "for i, word in enumerate(words):\n",
    "    plt.text(X_reduced[i, 0] + 0.01, X_reduced[i, 1] + 0.01, word, fontsize=9)\n",
    "\n",
    "plt.title(\"PCA van geselecteerde woorden (2D)\")\n",
    "plt.xlabel(\"PC1\")\n",
    "plt.ylabel(\"PC2\")\n",
    "plt.grid(True)\n",
    "plt.show()\n"
   ]
  },
  {
   "cell_type": "markdown",
   "id": "a784060c-a078-46d6-a8ed-d93a7e40cd46",
   "metadata": {},
   "source": [
    "In de PCA-visualisatie zijn duidelijke semantische clusters te onderscheiden. De energiegerelateerde termen (oil, gas, petroleum) bevinden zich dicht bij elkaar aan de rechterzijde van de plot. De emotiegerelateerde woorden (happy, joyful, sad) vormen een groep in het bovenste linkerkwadrant, waarbij sad enigszins gescheiden ligt maar nog wel binnen dezelfde betekenisruimte. Sad is dan ook een andere emotie dan joyful en happy. De geografische termen (city, town, village, country, continent) zijn samengebracht in het onderste en centrale deel van de visualisatie. Er zijn zelfs subgroepen te zien, waarbij onderscheid wordt gemaakt tussen grote en kleine regio's. Deze groepering bevestigt dat de PCA-projectie de onderliggende semantische structuur van de woordvectoren behoudt, waarbij betekenisvolle overeenkomsten resulteren in ruimtelijke nabijheid."
   ]
  }
 ],
 "metadata": {
  "kernelspec": {
   "display_name": "Python 3 (ipykernel)",
   "language": "python",
   "name": "python3"
  },
  "language_info": {
   "codemirror_mode": {
    "name": "ipython",
    "version": 3
   },
   "file_extension": ".py",
   "mimetype": "text/x-python",
   "name": "python",
   "nbconvert_exporter": "python",
   "pygments_lexer": "ipython3",
   "version": "3.13.2"
  }
 },
 "nbformat": 4,
 "nbformat_minor": 5
}
